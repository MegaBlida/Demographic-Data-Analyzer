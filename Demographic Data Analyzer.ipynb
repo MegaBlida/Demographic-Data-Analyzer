{
 "cells": [
  {
   "cell_type": "code",
   "execution_count": 8,
   "id": "c746e2db-d9d5-45e6-9c1b-0b90bf59d105",
   "metadata": {},
   "outputs": [],
   "source": [
    "import pandas as pd\n",
    "import numpy as np\n",
    "import math"
   ]
  },
  {
   "cell_type": "code",
   "execution_count": 29,
   "id": "2a71ce20-5287-41ca-8a7a-89bc9389f6e5",
   "metadata": {},
   "outputs": [],
   "source": [
    "df = pd.read_csv('adult.data.csv')\n"
   ]
  },
  {
   "cell_type": "code",
   "execution_count": 37,
   "id": "ee1eee79-4225-4796-9f27-58d5523770de",
   "metadata": {},
   "outputs": [
    {
     "name": "stdout",
     "output_type": "stream",
     "text": [
      "race\n",
      "White                 27816\n",
      "Black                  3124\n",
      "Asian-Pac-Islander     1039\n",
      "Amer-Indian-Eskimo      311\n",
      "Other                   271\n",
      "Name: count, dtype: int64\n"
     ]
    }
   ],
   "source": [
    "race_count = df['race'].value_counts()\n",
    "print(race_count)"
   ]
  },
  {
   "cell_type": "code",
   "execution_count": 30,
   "id": "af2d3f3f-7b5c-4a5a-970a-46f2518af4e7",
   "metadata": {},
   "outputs": [
    {
     "name": "stdout",
     "output_type": "stream",
     "text": [
      "40\n"
     ]
    }
   ],
   "source": [
    "average_age_men = math.ceil(df[df['sex'] == 'Male']['age'].mean())\n",
    "print(average_age_men)"
   ]
  },
  {
   "cell_type": "code",
   "execution_count": 12,
   "id": "87af7c86-0f44-4a01-a4cc-290214c9d60e",
   "metadata": {},
   "outputs": [
    {
     "name": "stdout",
     "output_type": "stream",
     "text": [
      "Percentage of males: 16.45%\n"
     ]
    }
   ],
   "source": [
    "percentage_bachelors = (len(df[df['education'] == 'Bachelors'])/len(df))*100\n",
    "print(f\"Percentage of males: {percentage_bachelors:.2f}%\")"
   ]
  },
  {
   "cell_type": "code",
   "execution_count": 13,
   "id": "f1d998ac-c4a2-43dc-b5cc-d0c92cc5cf4e",
   "metadata": {},
   "outputs": [
    {
     "name": "stdout",
     "output_type": "stream",
     "text": [
      "Percentage with Bachelors, Masters or Doctorate: 24.00%\n"
     ]
    }
   ],
   "source": [
    "higher_education = math.ceil(((len(df[df['education'] == 'Bachelors']) + len(df[df['education'] == 'Masters']) + len(df[df['education'] == 'Doctorate']))/len(df)*100))\n",
    "print(f\"Percentage with Bachelors, Masters or Doctorate: {higher_education:.2f}%\")"
   ]
  },
  {
   "cell_type": "code",
   "execution_count": 14,
   "id": "c9a8f6cb-513a-4add-abb5-fafcecb1f211",
   "metadata": {},
   "outputs": [
    {
     "name": "stdout",
     "output_type": "stream",
     "text": [
      "Percentage without Bachelors, Masters or Doctorate: 77%\n"
     ]
    }
   ],
   "source": [
    "lower_education = math.ceil((len(df[~df['education'].isin(['Bachelors', 'Masters', 'Doctorate'])])/len(df))*100)\n",
    "print(f\"Percentage without Bachelors, Masters or Doctorate: {lower_education:}%\")"
   ]
  },
  {
   "cell_type": "code",
   "execution_count": 15,
   "id": "8411da48-373c-44d6-9edb-3b8f02949f16",
   "metadata": {},
   "outputs": [
    {
     "name": "stdout",
     "output_type": "stream",
     "text": [
      "Percentage with Bachelors, Masters or Doctorate earn more than 50K: 11%\n"
     ]
    }
   ],
   "source": [
    "higher_education_rich = math.ceil((len(df[df['education'].isin(['Bachelors','Masters','Doctorate']) & (df['salary'] == '>50K')])/len(df))*100)\n",
    "print(f\"Percentage with Bachelors, Masters or Doctorate earn more than 50K: {higher_education_rich:}%\")"
   ]
  },
  {
   "cell_type": "code",
   "execution_count": 16,
   "id": "44a4a12f-76d8-43a2-b4ff-8564fbd0edd2",
   "metadata": {},
   "outputs": [
    {
     "name": "stdout",
     "output_type": "stream",
     "text": [
      "Percentage without Bachelors, Masters or Doctorate earn more than 50K: 14%\n"
     ]
    }
   ],
   "source": [
    "lower_education_rich = math.ceil((len(df[~df['education'].isin(['Bachelors','Masters','Doctorate']) & (df['salary'] == '>50K')])/len(df))*100)\n",
    "print(f\"Percentage without Bachelors, Masters or Doctorate earn more than 50K: {lower_education_rich:}%\")"
   ]
  },
  {
   "cell_type": "code",
   "execution_count": 17,
   "id": "12b44f60-0e9b-4c68-b8b4-2e35ee5f6ffc",
   "metadata": {
    "scrolled": true
   },
   "outputs": [
    {
     "name": "stdout",
     "output_type": "stream",
     "text": [
      "The minium hours a person work per week: 41 hours\n"
     ]
    }
   ],
   "source": [
    "\n",
    "    # What is the minimum number of hours a person works per week (hours-per-week feature)?\n",
    "    sum_work_hours = math.ceil(df['hours-per-week'].mean())\n",
    "    print(f\"The minium hours a person work per week: {sum_work_hours} hours\")"
   ]
  },
  {
   "cell_type": "code",
   "execution_count": 18,
   "id": "43021086-ea80-4ffc-8c7f-7a03b5c30514",
   "metadata": {},
   "outputs": [
    {
     "name": "stdout",
     "output_type": "stream",
     "text": [
      "Percentage who work the minimum number of hours per week have a salary of >50K is: 0.046%\n"
     ]
    }
   ],
   "source": [
    "    # What percentage of the people who work the minimum number of hours per week have a salary of >50K?\n",
    "    num_min_workers = len(df[(df['hours-per-week'] == 41) & (df['salary'] == '>50K')])/len(df[df['hours-per-week'] == 40])* 100\n",
    "    print(f\"Percentage who work the minimum number of hours per week have a salary of >50K is: {num_min_workers:.3f}%\")"
   ]
  },
  {
   "cell_type": "code",
   "execution_count": 23,
   "id": "9a1d3be7-188f-48e4-ac89-2aab743e191c",
   "metadata": {},
   "outputs": [
    {
     "name": "stdout",
     "output_type": "stream",
     "text": [
      "Country with the highest percentage of people earning >50K: Iran\n",
      "Percentage: 41.86%\n"
     ]
    }
   ],
   "source": [
    "    # What country has the highest percentage of people that earn >50K?\n",
    "    earning_country = df[df['salary'] == '>50K'].groupby('native-country').size()\n",
    "    total_counts= df.groupby('native-country').size()\n",
    "\n",
    "    percentage = (earning_country/total_counts)*100\n",
    "\n",
    "    highest_earning_country = percentage.idxmax()\n",
    "    highest_percentage = percentage.max()\n",
    "    \n",
    "    print(f\"Country with the highest percentage of people earning >50K: {highest_earning_country}\")\n",
    "    print(f\"Percentage: {highest_percentage:.2f}%\")\n",
    "    \n",
    "  "
   ]
  },
  {
   "cell_type": "code",
   "execution_count": 28,
   "id": "5fc8aa45-2241-4fd3-b9a8-eab4d11ce916",
   "metadata": {},
   "outputs": [
    {
     "name": "stdout",
     "output_type": "stream",
     "text": [
      "Prof-specialty\n"
     ]
    }
   ],
   "source": [
    "top_IN_occupation = df[(df['salary'] == '>50K') & (df['native-country'] == 'India')].groupby('occupation').size().idxmax()\n",
    "print(top_IN_occupation)"
   ]
  },
  {
   "cell_type": "code",
   "execution_count": 32,
   "id": "bafe76c5-b690-40a1-b063-b8565808cf46",
   "metadata": {},
   "outputs": [
    {
     "data": {
      "text/html": [
       "<div>\n",
       "<style scoped>\n",
       "    .dataframe tbody tr th:only-of-type {\n",
       "        vertical-align: middle;\n",
       "    }\n",
       "\n",
       "    .dataframe tbody tr th {\n",
       "        vertical-align: top;\n",
       "    }\n",
       "\n",
       "    .dataframe thead th {\n",
       "        text-align: right;\n",
       "    }\n",
       "</style>\n",
       "<table border=\"1\" class=\"dataframe\">\n",
       "  <thead>\n",
       "    <tr style=\"text-align: right;\">\n",
       "      <th></th>\n",
       "      <th>age</th>\n",
       "      <th>workclass</th>\n",
       "      <th>fnlwgt</th>\n",
       "      <th>education</th>\n",
       "      <th>education-num</th>\n",
       "      <th>marital-status</th>\n",
       "      <th>occupation</th>\n",
       "      <th>relationship</th>\n",
       "      <th>race</th>\n",
       "      <th>sex</th>\n",
       "      <th>capital-gain</th>\n",
       "      <th>capital-loss</th>\n",
       "      <th>hours-per-week</th>\n",
       "      <th>native-country</th>\n",
       "      <th>salary</th>\n",
       "    </tr>\n",
       "  </thead>\n",
       "  <tbody>\n",
       "    <tr>\n",
       "      <th>0</th>\n",
       "      <td>39</td>\n",
       "      <td>State-gov</td>\n",
       "      <td>77516</td>\n",
       "      <td>Bachelors</td>\n",
       "      <td>13</td>\n",
       "      <td>Never-married</td>\n",
       "      <td>Adm-clerical</td>\n",
       "      <td>Not-in-family</td>\n",
       "      <td>White</td>\n",
       "      <td>Male</td>\n",
       "      <td>2174</td>\n",
       "      <td>0</td>\n",
       "      <td>40</td>\n",
       "      <td>United-States</td>\n",
       "      <td>&lt;=50K</td>\n",
       "    </tr>\n",
       "    <tr>\n",
       "      <th>1</th>\n",
       "      <td>50</td>\n",
       "      <td>Self-emp-not-inc</td>\n",
       "      <td>83311</td>\n",
       "      <td>Bachelors</td>\n",
       "      <td>13</td>\n",
       "      <td>Married-civ-spouse</td>\n",
       "      <td>Exec-managerial</td>\n",
       "      <td>Husband</td>\n",
       "      <td>White</td>\n",
       "      <td>Male</td>\n",
       "      <td>0</td>\n",
       "      <td>0</td>\n",
       "      <td>13</td>\n",
       "      <td>United-States</td>\n",
       "      <td>&lt;=50K</td>\n",
       "    </tr>\n",
       "    <tr>\n",
       "      <th>2</th>\n",
       "      <td>38</td>\n",
       "      <td>Private</td>\n",
       "      <td>215646</td>\n",
       "      <td>HS-grad</td>\n",
       "      <td>9</td>\n",
       "      <td>Divorced</td>\n",
       "      <td>Handlers-cleaners</td>\n",
       "      <td>Not-in-family</td>\n",
       "      <td>White</td>\n",
       "      <td>Male</td>\n",
       "      <td>0</td>\n",
       "      <td>0</td>\n",
       "      <td>40</td>\n",
       "      <td>United-States</td>\n",
       "      <td>&lt;=50K</td>\n",
       "    </tr>\n",
       "    <tr>\n",
       "      <th>3</th>\n",
       "      <td>53</td>\n",
       "      <td>Private</td>\n",
       "      <td>234721</td>\n",
       "      <td>11th</td>\n",
       "      <td>7</td>\n",
       "      <td>Married-civ-spouse</td>\n",
       "      <td>Handlers-cleaners</td>\n",
       "      <td>Husband</td>\n",
       "      <td>Black</td>\n",
       "      <td>Male</td>\n",
       "      <td>0</td>\n",
       "      <td>0</td>\n",
       "      <td>40</td>\n",
       "      <td>United-States</td>\n",
       "      <td>&lt;=50K</td>\n",
       "    </tr>\n",
       "    <tr>\n",
       "      <th>4</th>\n",
       "      <td>28</td>\n",
       "      <td>Private</td>\n",
       "      <td>338409</td>\n",
       "      <td>Bachelors</td>\n",
       "      <td>13</td>\n",
       "      <td>Married-civ-spouse</td>\n",
       "      <td>Prof-specialty</td>\n",
       "      <td>Wife</td>\n",
       "      <td>Black</td>\n",
       "      <td>Female</td>\n",
       "      <td>0</td>\n",
       "      <td>0</td>\n",
       "      <td>40</td>\n",
       "      <td>Cuba</td>\n",
       "      <td>&lt;=50K</td>\n",
       "    </tr>\n",
       "  </tbody>\n",
       "</table>\n",
       "</div>"
      ],
      "text/plain": [
       "   age         workclass  fnlwgt  education  education-num  \\\n",
       "0   39         State-gov   77516  Bachelors             13   \n",
       "1   50  Self-emp-not-inc   83311  Bachelors             13   \n",
       "2   38           Private  215646    HS-grad              9   \n",
       "3   53           Private  234721       11th              7   \n",
       "4   28           Private  338409  Bachelors             13   \n",
       "\n",
       "       marital-status         occupation   relationship   race     sex  \\\n",
       "0       Never-married       Adm-clerical  Not-in-family  White    Male   \n",
       "1  Married-civ-spouse    Exec-managerial        Husband  White    Male   \n",
       "2            Divorced  Handlers-cleaners  Not-in-family  White    Male   \n",
       "3  Married-civ-spouse  Handlers-cleaners        Husband  Black    Male   \n",
       "4  Married-civ-spouse     Prof-specialty           Wife  Black  Female   \n",
       "\n",
       "   capital-gain  capital-loss  hours-per-week native-country salary  \n",
       "0          2174             0              40  United-States  <=50K  \n",
       "1             0             0              13  United-States  <=50K  \n",
       "2             0             0              40  United-States  <=50K  \n",
       "3             0             0              40  United-States  <=50K  \n",
       "4             0             0              40           Cuba  <=50K  "
      ]
     },
     "execution_count": 32,
     "metadata": {},
     "output_type": "execute_result"
    }
   ],
   "source": []
  },
  {
   "cell_type": "code",
   "execution_count": null,
   "id": "d283e31e-df60-4bcd-af5b-e8b9538b56c5",
   "metadata": {},
   "outputs": [],
   "source": []
  }
 ],
 "metadata": {
  "kernelspec": {
   "display_name": "Python 3 (ipykernel)",
   "language": "python",
   "name": "python3"
  },
  "language_info": {
   "codemirror_mode": {
    "name": "ipython",
    "version": 3
   },
   "file_extension": ".py",
   "mimetype": "text/x-python",
   "name": "python",
   "nbconvert_exporter": "python",
   "pygments_lexer": "ipython3",
   "version": "3.13.0"
  }
 },
 "nbformat": 4,
 "nbformat_minor": 5
}
